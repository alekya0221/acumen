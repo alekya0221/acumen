{
 "cells": [
  {
   "cell_type": "code",
   "execution_count": 2,
   "id": "3974739a-d17f-4453-8be5-8ad57c9e93e3",
   "metadata": {},
   "outputs": [
    {
     "name": "stdout",
     "output_type": "stream",
     "text": [
      "Requirement already satisfied: fastapi in ./Acumen_env/lib/python3.12/site-packages (0.115.9)\n",
      "Requirement already satisfied: uvicorn in ./Acumen_env/lib/python3.12/site-packages (0.34.1)\n",
      "Requirement already satisfied: starlette<0.46.0,>=0.40.0 in ./Acumen_env/lib/python3.12/site-packages (from fastapi) (0.45.3)\n",
      "Requirement already satisfied: pydantic!=1.8,!=1.8.1,!=2.0.0,!=2.0.1,!=2.1.0,<3.0.0,>=1.7.4 in ./Acumen_env/lib/python3.12/site-packages (from fastapi) (2.11.3)\n",
      "Requirement already satisfied: typing-extensions>=4.8.0 in ./Acumen_env/lib/python3.12/site-packages (from fastapi) (4.13.2)\n",
      "Requirement already satisfied: click>=7.0 in ./Acumen_env/lib/python3.12/site-packages (from uvicorn) (8.1.8)\n",
      "Requirement already satisfied: h11>=0.8 in ./Acumen_env/lib/python3.12/site-packages (from uvicorn) (0.14.0)\n",
      "Requirement already satisfied: annotated-types>=0.6.0 in ./Acumen_env/lib/python3.12/site-packages (from pydantic!=1.8,!=1.8.1,!=2.0.0,!=2.0.1,!=2.1.0,<3.0.0,>=1.7.4->fastapi) (0.7.0)\n",
      "Requirement already satisfied: pydantic-core==2.33.1 in ./Acumen_env/lib/python3.12/site-packages (from pydantic!=1.8,!=1.8.1,!=2.0.0,!=2.0.1,!=2.1.0,<3.0.0,>=1.7.4->fastapi) (2.33.1)\n",
      "Requirement already satisfied: typing-inspection>=0.4.0 in ./Acumen_env/lib/python3.12/site-packages (from pydantic!=1.8,!=1.8.1,!=2.0.0,!=2.0.1,!=2.1.0,<3.0.0,>=1.7.4->fastapi) (0.4.0)\n",
      "Requirement already satisfied: anyio<5,>=3.6.2 in ./Acumen_env/lib/python3.12/site-packages (from starlette<0.46.0,>=0.40.0->fastapi) (4.9.0)\n",
      "Requirement already satisfied: idna>=2.8 in ./Acumen_env/lib/python3.12/site-packages (from anyio<5,>=3.6.2->starlette<0.46.0,>=0.40.0->fastapi) (3.10)\n",
      "Requirement already satisfied: sniffio>=1.1 in ./Acumen_env/lib/python3.12/site-packages (from anyio<5,>=3.6.2->starlette<0.46.0,>=0.40.0->fastapi) (1.3.1)\n"
     ]
    }
   ],
   "source": [
    "!pip install fastapi uvicorn\n"
   ]
  },
  {
   "cell_type": "code",
   "execution_count": 3,
   "id": "cad6195f-5e01-41a8-aadf-225dc3fcdf53",
   "metadata": {},
   "outputs": [
    {
     "ename": "ModuleNotFoundError",
     "evalue": "No module named 'fastapi'",
     "output_type": "error",
     "traceback": [
      "\u001b[0;31m---------------------------------------------------------------------------\u001b[0m",
      "\u001b[0;31mModuleNotFoundError\u001b[0m                       Traceback (most recent call last)",
      "Cell \u001b[0;32mIn[3], line 2\u001b[0m\n\u001b[1;32m      1\u001b[0m \u001b[38;5;66;03m# app.py (FastAPI)\u001b[39;00m\n\u001b[0;32m----> 2\u001b[0m \u001b[38;5;28;01mfrom\u001b[39;00m \u001b[38;5;21;01mfastapi\u001b[39;00m \u001b[38;5;28;01mimport\u001b[39;00m FastAPI\n\u001b[1;32m      3\u001b[0m \u001b[38;5;28;01mfrom\u001b[39;00m \u001b[38;5;21;01mpydantic\u001b[39;00m \u001b[38;5;28;01mimport\u001b[39;00m BaseModel\n\u001b[1;32m      4\u001b[0m \u001b[38;5;28;01mimport\u001b[39;00m \u001b[38;5;21;01mmlflow\u001b[39;00m\u001b[38;5;21;01m.\u001b[39;00m\u001b[38;5;21;01msklearn\u001b[39;00m\n",
      "\u001b[0;31mModuleNotFoundError\u001b[0m: No module named 'fastapi'"
     ]
    }
   ],
   "source": [
    "# app.py (FastAPI)\n",
    "from fastapi import FastAPI\n",
    "from pydantic import BaseModel\n",
    "import mlflow.sklearn\n",
    "import numpy as np\n",
    "\n",
    "app = FastAPI()\n",
    "model = mlflow.sklearn.load_model(\"models:/AcumenModel/Production\")\n",
    "\n",
    "class Input(BaseModel):\n",
    "    features: list\n",
    "\n",
    "@app.post(\"/predict\")\n",
    "def predict(data: Input):\n",
    "    prediction = model.predict(np.array(data.features).reshape(1, -1))\n",
    "    return {\"prediction\": prediction.tolist()}\n"
   ]
  },
  {
   "cell_type": "code",
   "execution_count": null,
   "id": "8f436cd1-9f08-442f-b881-f9fd291ddb4b",
   "metadata": {},
   "outputs": [],
   "source": []
  }
 ],
 "metadata": {
  "kernelspec": {
   "display_name": "Python 3 (ipykernel)",
   "language": "python",
   "name": "python3"
  },
  "language_info": {
   "codemirror_mode": {
    "name": "ipython",
    "version": 3
   },
   "file_extension": ".py",
   "mimetype": "text/x-python",
   "name": "python",
   "nbconvert_exporter": "python",
   "pygments_lexer": "ipython3",
   "version": "3.12.7"
  }
 },
 "nbformat": 4,
 "nbformat_minor": 5
}
