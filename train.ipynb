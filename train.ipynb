{
 "cells": [
  {
   "cell_type": "code",
   "execution_count": 1,
   "id": "51639931-196a-4b42-abd5-a81c1720480b",
   "metadata": {},
   "outputs": [
    {
     "name": "stderr",
     "output_type": "stream",
     "text": [
      "2025/04/17 16:21:40 INFO mlflow.tracking.fluent: Experiment with name 'Acumen_Model_Training' does not exist. Creating a new experiment.\n",
      "\u001b[31m2025/04/17 16:25:32 WARNING mlflow.models.model: Model logged without a signature and input example. Please set `input_example` parameter when logging the model to auto infer the model signature.\u001b[0m\n",
      "Successfully registered model 'AcumenModel'.\n",
      "2025/04/17 16:25:33 INFO mlflow.store.model_registry.abstract_store: Waiting up to 300 seconds for model version to finish creation. Model name: AcumenModel, version 1\n"
     ]
    },
    {
     "name": "stdout",
     "output_type": "stream",
     "text": [
      "Model registered in run a89b358907ec43f28bf0a0eb8c273734 with accuracy: 0.87\n",
      "🏃 View run invincible-sheep-594 at: http://localhost:5000/#/experiments/605453704384742785/runs/a89b358907ec43f28bf0a0eb8c273734\n",
      "🧪 View experiment at: http://localhost:5000/#/experiments/605453704384742785\n"
     ]
    },
    {
     "name": "stderr",
     "output_type": "stream",
     "text": [
      "Created version '1' of model 'AcumenModel'.\n"
     ]
    }
   ],
   "source": [
    "# train.py\n",
    "import mlflow\n",
    "import mlflow.sklearn\n",
    "from sklearn.ensemble import RandomForestClassifier\n",
    "from sklearn.metrics import accuracy_score\n",
    "from sklearn.datasets import load_iris\n",
    "from sklearn.model_selection import train_test_split\n",
    "\n",
    "mlflow.set_tracking_uri(\"http://localhost:5000\")\n",
    "mlflow.set_experiment(\"Acumen_Model_Training\")\n",
    "\n",
    "# Load sample data\n",
    "X, y = load_iris(return_X_y=True)\n",
    "X_train, X_test, y_train, y_test = train_test_split(X, y, test_size=0.3)\n",
    "\n",
    "# Train model\n",
    "model = RandomForestClassifier(n_estimators=100, random_state=42)\n",
    "model.fit(X_train, y_train)\n",
    "y_pred = model.predict(X_test)\n",
    "acc = accuracy_score(y_test, y_pred)\n",
    "\n",
    "# Log to MLflow\n",
    "with mlflow.start_run() as run:\n",
    "    mlflow.log_param(\"n_estimators\", 100)\n",
    "    mlflow.log_param(\"model_type\", \"RandomForest\")\n",
    "    mlflow.log_metric(\"accuracy\", acc)\n",
    "    \n",
    "    mlflow.sklearn.log_model(model, \"model\", registered_model_name=\"AcumenModel\")\n",
    "    print(f\"Model registered in run {run.info.run_id} with accuracy: {acc:.2f}\")\n"
   ]
  },
  {
   "cell_type": "code",
   "execution_count": null,
   "id": "d7a6433d-4115-4822-a8b6-b3009754c50b",
   "metadata": {},
   "outputs": [],
   "source": []
  }
 ],
 "metadata": {
  "kernelspec": {
   "display_name": "Python (Acumen)",
   "language": "python",
   "name": "acumen_env"
  },
  "language_info": {
   "codemirror_mode": {
    "name": "ipython",
    "version": 3
   },
   "file_extension": ".py",
   "mimetype": "text/x-python",
   "name": "python",
   "nbconvert_exporter": "python",
   "pygments_lexer": "ipython3",
   "version": "3.12.7"
  }
 },
 "nbformat": 4,
 "nbformat_minor": 5
}
