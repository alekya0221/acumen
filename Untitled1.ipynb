{
 "cells": [
  {
   "cell_type": "code",
   "execution_count": 1,
   "id": "dfc87479-371d-46b2-82bf-cd8f2fb0df38",
   "metadata": {},
   "outputs": [
    {
     "name": "stdout",
     "output_type": "stream",
     "text": [
      "✅ FastAPI is working\n"
     ]
    }
   ],
   "source": [
    "from fastapi import FastAPI\n",
    "print(\"✅ FastAPI is working\")\n"
   ]
  },
  {
   "cell_type": "code",
   "execution_count": null,
   "id": "1ea11391-7372-44df-8ef0-317c96c17fce",
   "metadata": {},
   "outputs": [],
   "source": []
  }
 ],
 "metadata": {
  "kernelspec": {
   "display_name": "Python (Acumen)",
   "language": "python",
   "name": "acumen_env"
  },
  "language_info": {
   "codemirror_mode": {
    "name": "ipython",
    "version": 3
   },
   "file_extension": ".py",
   "mimetype": "text/x-python",
   "name": "python",
   "nbconvert_exporter": "python",
   "pygments_lexer": "ipython3",
   "version": "3.12.7"
  }
 },
 "nbformat": 4,
 "nbformat_minor": 5
}
